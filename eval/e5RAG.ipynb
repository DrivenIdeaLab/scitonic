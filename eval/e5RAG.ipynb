{
 "cells": [
  {
   "cell_type": "code",
   "execution_count": 20,
   "id": "e88b5452-f21c-4f4c-8760-30294ebd3292",
   "metadata": {},
   "outputs": [],
   "source": [
    "from langchain.text_splitter import RecursiveCharacterTextSplitter\n",
    "from langchain.document_loaders import TextLoader\n",
    "import os\n",
    "from langchain.document_loaders import DirectoryLoader\n",
    "from dotenv import load_dotenv\n",
    "from langchain.llms import OpenAI\n",
    "from langchain.chat_models import ChatOpenAI\n",
    "from langchain.chains import RetrievalQA\n",
    "import openai\n",
    "import chromadb"
   ]
  },
  {
   "cell_type": "code",
   "execution_count": 21,
   "id": "8fcacf3d-6497-447b-a0d5-99100f251efd",
   "metadata": {},
   "outputs": [
    {
     "name": "stdout",
     "output_type": "stream",
     "text": [
      "page_content='Iron Pillar and Uncorrelated Ventures led the round, with participation from existing investors Nexus Venture Partners, Chiratae Ventures and Next47. CEO and founder Nitin Jayakrishnan says that the new capital will be put toward expanding Pando’s global sales, marketing and delivery capabilities.' metadata={'source': 'new_articles/05-03-ai-powered-supply-chain-startup-pando-lands-30m-investment.txt'}\n"
     ]
    }
   ],
   "source": [
    "loader = DirectoryLoader('./new_articles/', glob=\"./*.txt\", loader_cls=TextLoader)\n",
    "documents = loader.load()\n",
    "text_splitter = RecursiveCharacterTextSplitter(chunk_size=500, chunk_overlap=200)\n",
    "texts = text_splitter.split_documents(documents)\n",
    "print(texts[1]) "
   ]
  },
  {
   "cell_type": "code",
   "execution_count": 41,
   "id": "2823e7a7-c133-4055-b8dc-b60752eb5c89",
   "metadata": {},
   "outputs": [],
   "source": [
    "# print(len(texts))"
   ]
  },
  {
   "cell_type": "code",
   "execution_count": 23,
   "id": "b4ecc980-7833-4bb6-b41e-4b265e950933",
   "metadata": {},
   "outputs": [],
   "source": [
    "metadata_list = [doc.metadata for doc in texts]\n",
    "text_content_list = [doc.page_content for doc in texts]\n",
    "id_list=id_list = [\"doc\" + str(i + 1) for i in range(len(texts))]"
   ]
  },
  {
   "cell_type": "code",
   "execution_count": 42,
   "id": "e645ebd5-8988-439c-98ec-eaa6c2fa8346",
   "metadata": {},
   "outputs": [],
   "source": [
    "from chromadb import Documents, EmbeddingFunction, Embeddings\n",
    "class E5EmbeddingFunction(EmbeddingFunction):\n",
    "    def __call__(self, input: Documents) -> Embeddings:\n",
    "        embeddings = []\n",
    "        for text in input:\n",
    "            try:\n",
    "                from gradio_client import Client\n",
    "                client = Client(\"https://tonic-e5.hf.space/--replicas/lg8l1/\")\n",
    "                \n",
    "                response = client.predict(\n",
    "                    \"ArguAna\",\n",
    "                    text,  \n",
    "                    api_name=\"/generate_and_format_embeddings\"\n",
    "                )\n",
    "                \n",
    "                # Extracting the embeddings from the response\n",
    "                embeddings_data = response.get('data', [])\n",
    "                if embeddings_data:\n",
    "                    embedding_list = embeddings_data[0].get('embedding', None)\n",
    "                    # print(\"Embeddings:\", embedding_list)\n",
    "\n",
    "                    if embedding_list is None:\n",
    "                        print(\"Warning: Gradio client returned None.\")\n",
    "                        return None  \n",
    "\n",
    "                    # Extending the embeddings list with the nested embeddings\n",
    "                    embeddings.extend(embedding_list)\n",
    "                else:\n",
    "                    print(\"Warning: 'data' not found in response.\")\n",
    "                    return None\n",
    "            except Exception as e:\n",
    "                print(f\"Error in E5EmbeddingFunction: {e}\")\n",
    "                return None\n",
    "\n",
    "        return embeddings\n",
    "\n",
    "\n",
    "# class E5EmbeddingFunction(EmbeddingFunction):\n",
    "#     # def __init__(self, api_link: str, model_name: str):\n",
    "#     #     if not api_link:\n",
    "#     #         raise ValueError(\"Please provide a api end point.\")\n",
    "\n",
    "#     #     if not model_name:\n",
    "#     #         raise ValueError(\"Please provide the model name.\")\n",
    "#     #     self._api_link = api_link\n",
    "#     #     self._model_name = model_name\n",
    "\n",
    "    \n",
    "    "
   ]
  },
  {
   "cell_type": "code",
   "execution_count": 129,
   "id": "78c9ef12-f7a7-463a-a2c9-dbf864fde1e7",
   "metadata": {},
   "outputs": [],
   "source": [
    "# embedding_function= embedding_functions.OpenAIEmbeddingFunction(\n",
    "#                 api_key=\"None\",\n",
    "#                 api_base=\"https://tonic-e5.hf.space/--replicas/ax7dg/generate_and_format_embeddings\",\n",
    "#                 api_type=\"None\",\n",
    "#                 api_version=\"123\",\n",
    "#                 model_name=\"ClimateFEVER\"\n",
    "#             )"
   ]
  },
  {
   "cell_type": "code",
   "execution_count": 43,
   "id": "d2bffa27-95e1-40f3-a647-651538832341",
   "metadata": {},
   "outputs": [],
   "source": [
    "chroma_client=chromadb.Client()"
   ]
  },
  {
   "cell_type": "code",
   "execution_count": 44,
   "id": "4f61eeb4-1d2d-4691-b3ff-e067e5aca3d8",
   "metadata": {},
   "outputs": [],
   "source": [
    "import chromadb.utils.embedding_functions as embedding_functions\n",
    "embedding_function =E5EmbeddingFunction()"
   ]
  },
  {
   "cell_type": "code",
   "execution_count": 45,
   "id": "aed98dc5-74bc-4de6-94e8-ca54c0f360b1",
   "metadata": {},
   "outputs": [
    {
     "name": "stdout",
     "output_type": "stream",
     "text": [
      "Info: Existing collection 'texts' deleted.\n"
     ]
    }
   ],
   "source": [
    "collection_name = \"texts\"\n",
    "existing_collections = [collection.name for collection in chroma_client.list_collections()]\n",
    "\n",
    "if collection_name in existing_collections:\n",
    "    chroma_client.delete_collection(collection_name)\n",
    "    print(f\"Info: Existing collection '{collection_name}' deleted.\")\n",
    "else:\n",
    "    print(\"No collection found\")"
   ]
  },
  {
   "cell_type": "code",
   "execution_count": 46,
   "id": "90512a49-af0c-4d85-a39b-673b55d1a6ae",
   "metadata": {},
   "outputs": [
    {
     "name": "stdout",
     "output_type": "stream",
     "text": [
      "Loaded as API: https://tonic-e5.hf.space/--replicas/lg8l1/ ✔\n",
      "Loaded as API: https://tonic-e5.hf.space/--replicas/lg8l1/ ✔\n",
      "Loaded as API: https://tonic-e5.hf.space/--replicas/lg8l1/ ✔\n",
      "Loaded as API: https://tonic-e5.hf.space/--replicas/lg8l1/ ✔\n",
      "Loaded as API: https://tonic-e5.hf.space/--replicas/lg8l1/ ✔\n"
     ]
    }
   ],
   "source": [
    "vector_store = chroma_client.get_or_create_collection(name=\"texts\",\n",
    "                                                      embedding_function=embedding_function)\n",
    "vector_store.add(ids=id_list, documents=text_content_list,metadatas=metadata_list)"
   ]
  },
  {
   "cell_type": "code",
   "execution_count": 47,
   "id": "fd49d201-cd25-494b-bcf0-ec9691943227",
   "metadata": {},
   "outputs": [
    {
     "name": "stdout",
     "output_type": "stream",
     "text": [
      "Loaded as API: https://tonic-e5.hf.space/--replicas/lg8l1/ ✔\n",
      "{'ids': [['doc2', 'doc4']], 'distances': [[0.6361709833145142, 0.6401547193527222]], 'metadatas': [[{'source': 'new_articles/05-03-ai-powered-supply-chain-startup-pando-lands-30m-investment.txt'}, {'source': 'new_articles/05-03-ai-powered-supply-chain-startup-pando-lands-30m-investment.txt'}]], 'embeddings': None, 'documents': [['Iron Pillar and Uncorrelated Ventures led the round, with participation from existing investors Nexus Venture Partners, Chiratae Ventures and Next47. CEO and founder Nitin Jayakrishnan says that the new capital will be put toward expanding Pando’s global sales, marketing and delivery capabilities.', 'Pando was co-launched by Jayakrishnan and Abhijeet Manohar, who previously worked together at iDelivery, an India-based freight tech marketplace — and their first startup. The two saw firsthand manufacturers, distributors and retailers were struggling with legacy tech and point solutions to understand, optimize and manage their global logistics operations — or at least, that’s the story Jayakrishnan tells.']], 'uris': None, 'data': None}\n"
     ]
    }
   ],
   "source": [
    "results = vector_store.query(\n",
    "    query_texts=\"Who is Nitin Jayakrishnan\",\n",
    "    n_results=2\n",
    ")\n",
    "print(results)\n"
   ]
  },
  {
   "cell_type": "code",
   "execution_count": 48,
   "id": "b69719cc-c5a9-4ae0-a6b9-6227c88959a4",
   "metadata": {},
   "outputs": [],
   "source": [
    "load_dotenv()\n",
    "OPENAI_API_KEY= os.getenv(\"OPENAI_API_KEY\")\n"
   ]
  },
  {
   "cell_type": "code",
   "execution_count": 49,
   "id": "1086b696-b020-4bf1-83d3-1d0978c580d8",
   "metadata": {},
   "outputs": [
    {
     "name": "stdout",
     "output_type": "stream",
     "text": [
      "Nitin Jayakrishnan is the CEO and founder of Pando, an AI-powered supply chain startup.\n"
     ]
    }
   ],
   "source": [
    "query=\"Who is Nitin Jayakrishnan\"\n",
    "openai.api_key = OPENAI_API_KEY\n",
    "completion = openai.chat.completions.create(\n",
    "model=\"gpt-3.5-turbo\",\n",
    "temperature=0,\n",
    "messages=\n",
    "[\n",
    "    {\"role\": \"user\",\n",
    "    \"content\": \n",
    "    f\"We have provided context information below. \\n\"\n",
    "    f\"---------------------\\n\"\n",
    "    f\"{results}\"\n",
    "    f\"\\n---------------------\\n\"\n",
    "    f\"Given this information, please answer the question: {query}\"\n",
    "    }\n",
    "]\n",
    ").choices[0].message.content\n",
    "print(completion)\n"
   ]
  },
  {
   "cell_type": "code",
   "execution_count": null,
   "id": "065bb651-b5be-4647-8fdf-4020a13d8d37",
   "metadata": {},
   "outputs": [],
   "source": []
  },
  {
   "cell_type": "code",
   "execution_count": null,
   "id": "fe225d04-19ca-46dd-b164-719e41b8eaa8",
   "metadata": {},
   "outputs": [],
   "source": []
  }
 ],
 "metadata": {
  "kernelspec": {
   "display_name": "Python 3 (ipykernel)",
   "language": "python",
   "name": "python3"
  },
  "language_info": {
   "codemirror_mode": {
    "name": "ipython",
    "version": 3
   },
   "file_extension": ".py",
   "mimetype": "text/x-python",
   "name": "python",
   "nbconvert_exporter": "python",
   "pygments_lexer": "ipython3",
   "version": "3.10.12"
  }
 },
 "nbformat": 4,
 "nbformat_minor": 5
}
